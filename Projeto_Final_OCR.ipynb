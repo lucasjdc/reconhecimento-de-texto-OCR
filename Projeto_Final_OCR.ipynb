{
  "nbformat": 4,
  "nbformat_minor": 0,
  "metadata": {
    "colab": {
      "provenance": [],
      "collapsed_sections": [
        "4LSAB5npfvfV",
        "NmCslj2Of1RU",
        "sy1x8ONQWGX0"
      ]
    },
    "kernelspec": {
      "name": "python3",
      "display_name": "Python 3"
    },
    "language_info": {
      "name": "python"
    }
  },
  "cells": [
    {
      "cell_type": "markdown",
      "source": [
        "## Projeto Final:"
      ],
      "metadata": {
        "id": "V6_TkovefS-I"
      }
    },
    {
      "cell_type": "markdown",
      "source": [
        "Nesse projeto nosso objetivo é:\n",
        "- Buscar termos específicos\n",
        "- Salvar resultados em um arquivo txt\n",
        "- Mostrar os resultados sobre a imagens dos termos específicos"
      ],
      "metadata": {
        "id": "Auef-RXYWfQl"
      }
    },
    {
      "cell_type": "markdown",
      "source": [
        "### 1. Preparando o ambiente"
      ],
      "metadata": {
        "id": "4LSAB5npfvfV"
      }
    },
    {
      "cell_type": "markdown",
      "source": [
        "#### Biblioteca e dados"
      ],
      "metadata": {
        "id": "NmCslj2Of1RU"
      }
    },
    {
      "cell_type": "code",
      "execution_count": null,
      "metadata": {
        "id": "FFOJrKJKfPCx"
      },
      "outputs": [],
      "source": [
        "!pip install opencv-python==4.6.0\n",
        "!sudo apt install tesseract-ocr\n",
        "!pip install pytesseract==0.3.9"
      ]
    },
    {
      "cell_type": "code",
      "source": [
        "! git clone https://github.com/sthemonica/text-recognize"
      ],
      "metadata": {
        "id": "pbj_YsJ8gSH8"
      },
      "execution_count": null,
      "outputs": []
    },
    {
      "cell_type": "code",
      "source": [
        "import pytesseract\n",
        "import numpy as np\n",
        "import cv2\n",
        "import re\n",
        "import os\n",
        "import matplotlib.pyplot as plt\n",
        "\n",
        "from PIL import ImageFont, ImageDraw, Image\n",
        "from pytesseract import Output\n",
        "from google.colab.patches import cv2_imshow"
      ],
      "metadata": {
        "id": "ANatVgAngaM1"
      },
      "execution_count": null,
      "outputs": []
    },
    {
      "cell_type": "code",
      "source": [
        "pytesseract.__version__"
      ],
      "metadata": {
        "id": "3kgGLewSgvoC"
      },
      "execution_count": null,
      "outputs": []
    },
    {
      "cell_type": "code",
      "source": [
        "cv2.__version__"
      ],
      "metadata": {
        "id": "oWvt2K-Cg2r0"
      },
      "execution_count": null,
      "outputs": []
    },
    {
      "cell_type": "code",
      "source": [
        "!mkdir tessdata\n",
        "!wget -O ./tessdata/por.traineddata https://github.com/tesseract-ocr/tessdata/blob/main/por.traineddata?raw=true\n",
        "!wget -O ./tessdata/eng.traineddata https://github.com/tesseract-ocr/tessdata/blob/main/eng.traineddata?raw=true"
      ],
      "metadata": {
        "id": "7H2O37Z9hAdd"
      },
      "execution_count": null,
      "outputs": []
    },
    {
      "cell_type": "markdown",
      "source": [
        "#### Entendendo os dados"
      ],
      "metadata": {
        "id": "VtAo8uN2hwR4"
      }
    },
    {
      "cell_type": "code",
      "source": [
        "projeto = \"/content/text-recognize/Imagens/Projeto\"\n",
        "caminho = [os.path.join(projeto, f) for f in os.listdir(projeto)]\n",
        "print(caminho)"
      ],
      "metadata": {
        "id": "nDHSYkboh9zR"
      },
      "execution_count": null,
      "outputs": []
    },
    {
      "cell_type": "code",
      "source": [
        "def mostrar(img):\n",
        "  fig = plt.gcf()                                   # busca a figura atual\n",
        "  fig.set_size_inches(20, 10)                       # define o tamanho\n",
        "  plt.axis(\"off\")                                   # remove a visualização dos eixos\n",
        "  plt.imshow(cv2.cvtColor(img, cv2.COLOR_BGR2RGB))  # fa a conversão das cores com o OpenCV\n",
        "  plt.show()                                        # mosta a imagem"
      ],
      "metadata": {
        "id": "tVckZm4BdxMb"
      },
      "execution_count": null,
      "outputs": []
    },
    {
      "cell_type": "code",
      "source": [
        "for imagem in caminho:\n",
        "  imagem = cv2.imread(imagem)\n",
        "  mostrar(imagem)"
      ],
      "metadata": {
        "id": "QRmzbXPNfiws"
      },
      "execution_count": null,
      "outputs": []
    },
    {
      "cell_type": "code",
      "source": [
        "config_tesseract = \"--tessdata-dir tessdata\""
      ],
      "metadata": {
        "id": "m6GQ0D8qgqY2"
      },
      "execution_count": null,
      "outputs": []
    },
    {
      "cell_type": "code",
      "source": [
        "def OCR_processa(img, config_tesseract):\n",
        "  texto = pytesseract.image_to_string(img, lang=\"por\", config=config_tesseract)\n",
        "  return texto"
      ],
      "metadata": {
        "id": "EzZnv1Y7gQwx"
      },
      "execution_count": null,
      "outputs": []
    },
    {
      "cell_type": "markdown",
      "source": [
        "### 2. Reconhecimento de texto"
      ],
      "metadata": {
        "id": "sy1x8ONQWGX0"
      }
    },
    {
      "cell_type": "code",
      "source": [
        "texto_completo = ''\n",
        "nome_txt = 'resultado_ocr.txt'"
      ],
      "metadata": {
        "id": "yPMsolCAWJAZ"
      },
      "execution_count": null,
      "outputs": []
    },
    {
      "cell_type": "code",
      "source": [
        "for imagem in caminho:                                        # percorre as imagens no caminho\n",
        "  img = cv2.imread(imagem)\n",
        "  nome_imagem = os.path.split(imagem)[-1]                     # recebe os nomes e diretórios das imagens, quebrados, precisamos apenas do -1 (última posição do diretório)\n",
        "  nome_divisao = '===================\\n' + str(nome_imagem)   # divisão + nome da imagem que está sendo vista\n",
        "  texto_completo = texto_completo + nome_divisao + '\\n'       # recebe o texto completo + a divisão + /n para pular a linha\n",
        "  texto = OCR_processa(img, config_tesseract)\n",
        "  texto_completo += texto                                     # recebe o texto completo + o texto que foi reconhecido\n",
        "\n"
      ],
      "metadata": {
        "id": "fO1IxrC-W-yz"
      },
      "execution_count": null,
      "outputs": []
    },
    {
      "cell_type": "code",
      "source": [
        "#texto_completo"
      ],
      "metadata": {
        "id": "R4jQCBwqZfOl"
      },
      "execution_count": null,
      "outputs": []
    },
    {
      "cell_type": "code",
      "source": [
        "# Salvando o arquivo em txt\n",
        "arquivo_txt = open(nome_txt, 'w+')        # a+ é para colocar no final do arquivo, w+ para sobre escrever o arquivo\n",
        "arquivo_txt.write(texto_completo + '\\n')  #passa o texto que quer adicionar\n",
        "arquivo_txt.close()"
      ],
      "metadata": {
        "id": "MT0oXc62Zp4a"
      },
      "execution_count": null,
      "outputs": []
    },
    {
      "cell_type": "markdown",
      "source": [
        "### 3. Busca de ocorrências"
      ],
      "metadata": {
        "id": "NRdiiehAclAI"
      }
    },
    {
      "cell_type": "markdown",
      "source": [
        "#### Nos textos"
      ],
      "metadata": {
        "id": "d_epvs-3cvaM"
      }
    },
    {
      "cell_type": "code",
      "source": [
        "termo_pesquisa = 'learning' # @param {type:\"string\"}"
      ],
      "metadata": {
        "id": "eOAJzT0YctFE"
      },
      "execution_count": null,
      "outputs": []
    },
    {
      "cell_type": "code",
      "source": [
        "with open(nome_txt) as f:\n",
        "  ocorrencias = [i.start() for i in re.finditer(termo_pesquisa, f.read())] # ocorrencia é uma lista."
      ],
      "metadata": {
        "id": "UcnIUJSgfPi_"
      },
      "execution_count": null,
      "outputs": []
    },
    {
      "cell_type": "code",
      "source": [
        "ocorrencias"
      ],
      "metadata": {
        "id": "e3WkYGEDftYQ"
      },
      "execution_count": null,
      "outputs": []
    },
    {
      "cell_type": "markdown",
      "source": [
        "Na listagem de imagens"
      ],
      "metadata": {
        "id": "SEs2MfXMhLwN"
      }
    },
    {
      "cell_type": "code",
      "source": [
        "for imagem in caminho:\n",
        "  img = cv2.imread(imagem)        # carrega a imagem\n",
        "  nome_imagem = os.path.split(imagem)[-1]\n",
        "  print('===================\\n' + str(nome_imagem))   # separação + nome da imagem\n",
        "\n",
        "  texto = OCR_processa(img, config_tesseract)         # usando o OCR\n",
        "\n",
        "  ocorrencias = [i.start() for i in re.finditer(termo_pesquisa, texto)]\n",
        "  if len(ocorrencias) == 0:\n",
        "    print(f\"O termo {termo_pesquisa} não foi encontrado.\")\n",
        "  else:\n",
        "    if len(ocorrencias) == 1:\n",
        "      palavra_ocorrencia = 'ocorrência'\n",
        "    else:\n",
        "      palavra_ocorrencia = 'ocorrências'\n",
        "\n",
        "    print(f\"Foi encontrado {len(ocorrencias)} {palavra_ocorrencia} do termo: {termo_pesquisa} \\n\")"
      ],
      "metadata": {
        "id": "OTJmotY9hQW4"
      },
      "execution_count": null,
      "outputs": []
    },
    {
      "cell_type": "markdown",
      "source": [
        "### 4. Reconhecimento na imagem"
      ],
      "metadata": {
        "id": "hcYcd4XyrkZc"
      }
    },
    {
      "cell_type": "code",
      "source": [
        "fonte_dir = '/content/text-recognize/Imagens/calibri.ttf'"
      ],
      "metadata": {
        "id": "oJTz1EqSruEa"
      },
      "execution_count": null,
      "outputs": []
    },
    {
      "cell_type": "code",
      "source": [
        "def escreve_texto(texto, x, y, img, fonte_dir, cor=(50, 50, 255), tamanho=16):\n",
        "  fonte = ImageFont.truetype(fonte_dir, tamanho)\n",
        "  img_pil = Image.fromarray(img)\n",
        "  draw = ImageDraw.Draw(img_pil)\n",
        "  draw.text((x, y-tamanho), texto, font = fonte, fill = cor)\n",
        "  img = np.array(img_pil)\n",
        "  return img"
      ],
      "metadata": {
        "id": "83uSfYz8sFnV"
      },
      "execution_count": null,
      "outputs": []
    },
    {
      "cell_type": "code",
      "source": [
        "min_conf = 30 #@param {type:\"slider\", min:0, max:100}"
      ],
      "metadata": {
        "id": "QaSvPboIs7i2"
      },
      "execution_count": null,
      "outputs": []
    },
    {
      "cell_type": "code",
      "source": [
        "def caixa_texto(i, resultado, img, cor=(255, 100, 0)):\n",
        "  x = resultado[\"left\"][i]\n",
        "  y = resultado[\"top\"][i]\n",
        "  w = resultado[\"width\"][i]\n",
        "  h = resultado[\"height\"][i]\n",
        "  cv2.rectangle(img, (x, y), (x + w, y + h), cor, 2)\n",
        "  return x, y, img"
      ],
      "metadata": {
        "id": "gKFBPOvEtIoo"
      },
      "execution_count": null,
      "outputs": []
    },
    {
      "cell_type": "code",
      "source": [
        "def OCR_processa_imagem(img, termo_pesquisa, config_tesseract, min_conf):\n",
        "  resultado = pytesseract.image_to_data(img, config=config_tesseract, lang='por', output_type=Output.DICT) #imagem para dados, que já fizemos anteriormente\n",
        "  num_ocorrencias = 0 #inicializando como 0\n",
        "\n",
        "  for i in range(0, len(resultado['text'])): # vai de 0 ao tamanho do número de valores do texto\n",
        "    confianca = int(resultado['conf'][i]) # qual a confiança da detecção\n",
        "    if confianca > min_conf: # se a confiança for maior que o valor mínimo, passa para a linha abaixo\n",
        "      texto = resultado['text'][i] #texto será igual ao resultado text no momento i\n",
        "      if termo_pesquisa in texto: #se o termo de pesquisa estiver no texto:\n",
        "        x, y, img = caixa_texto(i, resultado, img, (0,0,255)) # faz a caixa de bounding box\n",
        "        img = escreve_texto(texto, x, y, img, fonte_dir, (50,50,225), 14) #escreve o texto\n",
        "\n",
        "        num_ocorrencias += 1 #faz a iteração no num de ocorrências e volta para o laço até acabar o texto\n",
        "  return img, num_ocorrencias"
      ],
      "metadata": {
        "id": "H1efG5zFt2-r"
      },
      "execution_count": null,
      "outputs": []
    },
    {
      "cell_type": "code",
      "source": [
        "termo_pesquisa = 'learning'\n",
        "\n",
        "for imagem in caminho:\n",
        "  img = cv2.imread(imagem) #carrega a imagem\n",
        "  img_original = img.copy() #cria uma cópia da imagem para não escrever em cima da original\n",
        "\n",
        "  nome_imagem = os.path.split(imagem)[-1] # passa a imagem e acessa a última posição do diretório\n",
        "  print('===================\\n' + str(nome_imagem))  # separação + nome da imagem\n",
        "\n",
        "  img, numero_ocorrencias = OCR_processa_imagem(img, termo_pesquisa, config_tesseract, min_conf) #usando o OCR_processa_imagem\n",
        "  print('Número de ocorrências para {} em {}: {}'.format(termo_pesquisa, nome_imagem, numero_ocorrencias))\n",
        "    #primeira chaves é para termo de pesquisa e a segunda nome das imagens e a terceira é o numeros de ocorrencias\n",
        "  print('\\n')\n",
        "\n",
        "  mostrar(img)"
      ],
      "metadata": {
        "id": "oYKCqNRMvLOl"
      },
      "execution_count": null,
      "outputs": []
    }
  ]
}