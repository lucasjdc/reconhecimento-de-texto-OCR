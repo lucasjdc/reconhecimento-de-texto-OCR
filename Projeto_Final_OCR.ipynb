{
  "nbformat": 4,
  "nbformat_minor": 0,
  "metadata": {
    "colab": {
      "provenance": [],
      "collapsed_sections": [
        "4LSAB5npfvfV",
        "NmCslj2Of1RU"
      ]
    },
    "kernelspec": {
      "name": "python3",
      "display_name": "Python 3"
    },
    "language_info": {
      "name": "python"
    }
  },
  "cells": [
    {
      "cell_type": "markdown",
      "source": [
        "## Projeto Final:"
      ],
      "metadata": {
        "id": "V6_TkovefS-I"
      }
    },
    {
      "cell_type": "markdown",
      "source": [
        "Nesse projeto nosso objetivo é:\n",
        "- Buscar termos específicos\n",
        "- Salvar resultados em um arquivo txt\n",
        "- Mostrar os resultados sobre a imagens dos termos específicos"
      ],
      "metadata": {
        "id": "Auef-RXYWfQl"
      }
    },
    {
      "cell_type": "markdown",
      "source": [
        "### 1. Preparando o ambiente"
      ],
      "metadata": {
        "id": "4LSAB5npfvfV"
      }
    },
    {
      "cell_type": "markdown",
      "source": [
        "#### Biblioteca e dados"
      ],
      "metadata": {
        "id": "NmCslj2Of1RU"
      }
    },
    {
      "cell_type": "code",
      "execution_count": null,
      "metadata": {
        "id": "FFOJrKJKfPCx"
      },
      "outputs": [],
      "source": [
        "!pip install opencv-python==4.6.0\n",
        "!sudo apt install tesseract-ocr\n",
        "!pip install pytesseract==0.3.9"
      ]
    },
    {
      "cell_type": "code",
      "source": [
        "! git clone https://github.com/sthemonica/text-recognize"
      ],
      "metadata": {
        "id": "pbj_YsJ8gSH8"
      },
      "execution_count": null,
      "outputs": []
    },
    {
      "cell_type": "code",
      "source": [
        "import pytesseract\n",
        "import numpy as np\n",
        "import cv2\n",
        "import re\n",
        "import os\n",
        "import matplotlib.pyplot as plt\n",
        "\n",
        "from PIL import ImageFont, ImageDraw, Image\n",
        "from pytesseract import Output\n",
        "from google.colab.patches import cv2_imshow"
      ],
      "metadata": {
        "id": "ANatVgAngaM1"
      },
      "execution_count": null,
      "outputs": []
    },
    {
      "cell_type": "code",
      "source": [
        "pytesseract.__version__"
      ],
      "metadata": {
        "id": "3kgGLewSgvoC"
      },
      "execution_count": null,
      "outputs": []
    },
    {
      "cell_type": "code",
      "source": [
        "cv2.__version__"
      ],
      "metadata": {
        "id": "oWvt2K-Cg2r0"
      },
      "execution_count": null,
      "outputs": []
    },
    {
      "cell_type": "code",
      "source": [
        "!mkdir tessdata\n",
        "!wget -O ./tessdata/por.traineddata https://github.com/tesseract-ocr/tessdata/blob/main/por.traineddata?raw=true\n",
        "!wget -O ./tessdata/eng.traineddata https://github.com/tesseract-ocr/tessdata/blob/main/eng.traineddata?raw=true"
      ],
      "metadata": {
        "id": "7H2O37Z9hAdd"
      },
      "execution_count": null,
      "outputs": []
    },
    {
      "cell_type": "markdown",
      "source": [
        "#### Entendendo os dados"
      ],
      "metadata": {
        "id": "VtAo8uN2hwR4"
      }
    },
    {
      "cell_type": "code",
      "source": [
        "projeto = \"/content/text-recognize/Imagens/Projeto\"\n",
        "caminho = [os.path.join(projeto, f) for f in os.listdir(projeto)]\n",
        "print(caminho)"
      ],
      "metadata": {
        "id": "nDHSYkboh9zR"
      },
      "execution_count": null,
      "outputs": []
    },
    {
      "cell_type": "code",
      "source": [
        "def mostrar(img):\n",
        "  fig = plt.gcf()                                   # busca a figura atual\n",
        "  fig.set_size_inches(20, 10)                       # define o tamanho\n",
        "  plt.axis(\"off\")                                   # remove a visualização dos eixos\n",
        "  plt.imshow(cv2.cvtColor(img, cv2.COLOR_BGR2RGB))  # fa a conversão das cores com o OpenCV\n",
        "  plt.show()                                        # mosta a imagem"
      ],
      "metadata": {
        "id": "tVckZm4BdxMb"
      },
      "execution_count": null,
      "outputs": []
    },
    {
      "cell_type": "code",
      "source": [
        "for imagem in caminho:\n",
        "  imagem = cv2.imread(imagem)\n",
        "  mostrar(imagem)"
      ],
      "metadata": {
        "id": "QRmzbXPNfiws"
      },
      "execution_count": null,
      "outputs": []
    },
    {
      "cell_type": "code",
      "source": [
        "config_tesseract = \"--tessdata-dir tessdata\""
      ],
      "metadata": {
        "id": "m6GQ0D8qgqY2"
      },
      "execution_count": null,
      "outputs": []
    },
    {
      "cell_type": "code",
      "source": [
        "def OCR_processa(img, config_tesseract):\n",
        "  texto = pytesseract.image_to_string(img, lang=\"por\", config=config_tesseract)\n",
        "  return texto"
      ],
      "metadata": {
        "id": "EzZnv1Y7gQwx"
      },
      "execution_count": null,
      "outputs": []
    },
    {
      "cell_type": "markdown",
      "source": [
        "### 2. Reconhecimento de texto"
      ],
      "metadata": {
        "id": "sy1x8ONQWGX0"
      }
    },
    {
      "cell_type": "code",
      "source": [
        "texto_completo = ''\n",
        "nome_txt = 'resultado_ocr.txt'"
      ],
      "metadata": {
        "id": "yPMsolCAWJAZ"
      },
      "execution_count": null,
      "outputs": []
    },
    {
      "cell_type": "code",
      "source": [
        "for imagem in caminho:                                        # percorre as imagens no caminho\n",
        "  img = cv2.imread(imagem)\n",
        "  nome_imagem = os.path.split(imagem)[-1]                     # recebe os nomes e diretórios das imagens, quebrados, precisamos apenas do -1 (última posição do diretório)\n",
        "  nome_divisao = '===================\\n' + str(nome_imagem)   # divisão + nome da imagem que está sendo vista\n",
        "  texto_completo = texto_completo + nome_divisao + '\\n'       # recebe o texto completo + a divisão + /n para pular a linha\n",
        "  texto = OCR_processa(img, config_tesseract)\n",
        "  texto_completo += texto + '\\n'                               # recebe o texto completo + o texto que foi reconhecido\n",
        "\n",
        ""
      ],
      "metadata": {
        "id": "fO1IxrC-W-yz"
      },
      "execution_count": null,
      "outputs": []
    },
    {
      "cell_type": "code",
      "source": [
        "#texto_completo"
      ],
      "metadata": {
        "id": "R4jQCBwqZfOl"
      },
      "execution_count": null,
      "outputs": []
    },
    {
      "cell_type": "code",
      "source": [
        "# Salvando o arquivo em txt\n",
        "arquivo_txt = open(nome_txt, 'w+')        # a+ é para colocar no final do arquivo, w+ para sobre escrever o arquivo\n",
        "arquivo_txt.write(texto_completo + '\\n')  #passa o texto que quer adicionar\n",
        "arquivo_txt.close()"
      ],
      "metadata": {
        "id": "MT0oXc62Zp4a"
      },
      "execution_count": null,
      "outputs": []
    }
  ]
}