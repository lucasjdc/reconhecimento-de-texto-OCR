{
  "nbformat": 4,
  "nbformat_minor": 0,
  "metadata": {
    "colab": {
      "provenance": [],
      "collapsed_sections": [
        "wGBEeS0ummT_"
      ]
    },
    "kernelspec": {
      "name": "python3",
      "display_name": "Python 3"
    },
    "language_info": {
      "name": "python"
    }
  },
  "cells": [
    {
      "cell_type": "markdown",
      "source": [
        "# Preparando o ambiente"
      ],
      "metadata": {
        "id": "oV3dEN9amfc7"
      }
    },
    {
      "cell_type": "code",
      "execution_count": null,
      "metadata": {
        "id": "g52NHGBLlNZB"
      },
      "outputs": [],
      "source": [
        "!pip install opencv-python==4.6.0.66\n",
        "!sudo apt install tesseract-ocr\n",
        "!pip install pytesseract==0.3.9"
      ]
    },
    {
      "cell_type": "code",
      "source": [
        "import pytesseract\n",
        "import numpy as np\n",
        "import cv2\n",
        "from google.colab.patches import cv2_imshow # para mostrar as imagens no Google Colab"
      ],
      "metadata": {
        "id": "BZ-G3Hs8ll-y"
      },
      "execution_count": null,
      "outputs": []
    },
    {
      "cell_type": "code",
      "source": [
        "! git clone https://github.com/sthemonica/text-recognize"
      ],
      "metadata": {
        "id": "nzQ73tBll7wc"
      },
      "execution_count": null,
      "outputs": []
    },
    {
      "cell_type": "markdown",
      "source": [
        "# Introdução ao Tesseract OCR"
      ],
      "metadata": {
        "id": "wGBEeS0ummT_"
      }
    },
    {
      "cell_type": "code",
      "source": [
        "img = cv2.imread('/content/text-recognize/Imagens/Aula1-teste.png')\n",
        "cv2_imshow(img)"
      ],
      "metadata": {
        "id": "IIiszvSgmaoj"
      },
      "execution_count": null,
      "outputs": []
    },
    {
      "cell_type": "code",
      "source": [
        "texto = pytesseract.image_to_string(img)\n",
        "print(texto)"
      ],
      "metadata": {
        "id": "_NxgcUmOtS27"
      },
      "execution_count": null,
      "outputs": []
    },
    {
      "cell_type": "markdown",
      "source": [
        "# Imagens BGR"
      ],
      "metadata": {
        "id": "7QBdxkfjt18y"
      }
    },
    {
      "cell_type": "code",
      "source": [
        "img = cv2.imread('/content/text-recognize/Imagens/Aula1-ocr.png')\n",
        "cv2_imshow(img)"
      ],
      "metadata": {
        "id": "p27iYX4Gt7vf"
      },
      "execution_count": null,
      "outputs": []
    },
    {
      "cell_type": "markdown",
      "source": [
        "O OpenCV tem seus canais de cores invertidos, então para utilizarmos com outras bibliotecas precisamos fazer a conversão de BGR para RGB."
      ],
      "metadata": {
        "id": "qo9Y6OA4utCJ"
      }
    },
    {
      "cell_type": "code",
      "source": [
        "rgb = cv2.cvtColor(img, cv2.COLOR_BGR2RGB)\n",
        "cv2_imshow(rgb)"
      ],
      "metadata": {
        "id": "vUs_2xZOuk7b"
      },
      "execution_count": null,
      "outputs": []
    },
    {
      "cell_type": "code",
      "source": [
        "texto = pytesseract.image_to_string(rgb)\n",
        "print(texto)"
      ],
      "metadata": {
        "id": "TpG2e8-4wsPl"
      },
      "execution_count": null,
      "outputs": []
    },
    {
      "cell_type": "code",
      "source": [
        "gray = cv2.cvtColor(img, cv2.COLOR_BGR2GRAY)\n",
        "cv2_imshow(gray)"
      ],
      "metadata": {
        "id": "PCDbcPBuwEyb"
      },
      "execution_count": null,
      "outputs": []
    },
    {
      "cell_type": "code",
      "source": [
        "texto = pytesseract.image_to_string(gray)\n",
        "print(texto)"
      ],
      "metadata": {
        "id": "H3K7ek5Yw0kC"
      },
      "execution_count": null,
      "outputs": []
    },
    {
      "cell_type": "markdown",
      "source": [
        "Aula 2"
      ],
      "metadata": {
        "id": "7dERbHHsxzfI"
      }
    },
    {
      "cell_type": "markdown",
      "source": [
        "Caracteres diferentes"
      ],
      "metadata": {
        "id": "RCxRFLO2yeT7"
      }
    },
    {
      "cell_type": "code",
      "source": [
        "img = cv2.imread('/content/text-recognize/Imagens/Aula2-undersampling.png')\n",
        "rgb = cv2.cvtColor(img, cv2.COLOR_BGR2RGB)\n",
        "cv2_imshow(rgb)"
      ],
      "metadata": {
        "id": "-nqDxwVLxyxI"
      },
      "execution_count": null,
      "outputs": []
    },
    {
      "cell_type": "code",
      "source": [
        "texto = pytesseract.image_to_string(rgb)\n",
        "print(texto)"
      ],
      "metadata": {
        "id": "CigWzvAKyTDA"
      },
      "execution_count": null,
      "outputs": []
    },
    {
      "cell_type": "markdown",
      "source": [
        "As palavras **estão**, **frequência**, **observações** não foram bem traduzidas."
      ],
      "metadata": {
        "id": "0vrUeDqsywGu"
      }
    },
    {
      "cell_type": "code",
      "source": [
        "!tesseract --list-langs"
      ],
      "metadata": {
        "id": "FfmtZAfBzG4_"
      },
      "execution_count": null,
      "outputs": []
    },
    {
      "cell_type": "markdown",
      "source": [
        "Adicionando novo idioma no tesseract"
      ],
      "metadata": {
        "id": "uByFws2ezqQ3"
      }
    },
    {
      "cell_type": "code",
      "source": [
        "!apt-get install tesseract-ocr-por"
      ],
      "metadata": {
        "id": "JPe2Rkwuzg1p"
      },
      "execution_count": null,
      "outputs": []
    },
    {
      "cell_type": "code",
      "source": [
        "texto = pytesseract.image_to_string(rgb, lang='por')\n",
        "print(texto)"
      ],
      "metadata": {
        "id": "5gCPWrJj0OsT"
      },
      "execution_count": null,
      "outputs": []
    },
    {
      "cell_type": "markdown",
      "source": [
        "Idiomas do projeto"
      ],
      "metadata": {
        "id": "0vTnV-azGs5l"
      }
    },
    {
      "cell_type": "code",
      "source": [
        "!mkdir tessdata"
      ],
      "metadata": {
        "id": "ro2ZBq7nGv0U"
      },
      "execution_count": null,
      "outputs": []
    },
    {
      "cell_type": "code",
      "source": [
        "!wget -O ./tessdata/por.traineddata https://github.com/tesseract-ocr/tessdata/blob/main/por.traineddata?raw=true\n",
        "!wget -O ./tessdata/eng.traineddata https://github.com/tesseract-ocr/tessdata/blob/main/eng.traineddata?raw=true"
      ],
      "metadata": {
        "id": "F1XX1pVqG_2Y"
      },
      "execution_count": null,
      "outputs": []
    },
    {
      "cell_type": "code",
      "source": [
        "config_tesseract = '--tessdata-dir tessdata'\n",
        "texto = pytesseract.image_to_string(rgb, lang='por', config=config_tesseract)\n",
        "print(texto)"
      ],
      "metadata": {
        "id": "sXxNGWfvHNNd"
      },
      "execution_count": null,
      "outputs": []
    },
    {
      "cell_type": "code",
      "source": [
        "!ls tessdata/"
      ],
      "metadata": {
        "id": "XLTE7dcxHm0V"
      },
      "execution_count": null,
      "outputs": []
    },
    {
      "cell_type": "markdown",
      "source": [
        "PSMs - Page Segmentation Modes"
      ],
      "metadata": {
        "id": "lNQC5UjX0-XF"
      }
    },
    {
      "cell_type": "code",
      "source": [
        "!tesseract --help-psm"
      ],
      "metadata": {
        "id": "O2Rlr7BT0xJh"
      },
      "execution_count": null,
      "outputs": []
    },
    {
      "cell_type": "code",
      "source": [
        "img = cv2.imread('/content/text-recognize/Imagens/Aula2-trecho-livro.png')\n",
        "rgb = cv2.cvtColor(img, cv2.COLOR_BGR2RGB)\n",
        "cv2_imshow(rgb)"
      ],
      "metadata": {
        "id": "c7fndpxs1eV7"
      },
      "execution_count": null,
      "outputs": []
    },
    {
      "cell_type": "code",
      "source": [
        "config_tesseract = '--tessdata-dir tessdata'\n",
        "texto = pytesseract.image_to_string(rgb, lang='por', config=config_tesseract)\n",
        "print(texto)"
      ],
      "metadata": {
        "id": "OEVNMBIeIjek"
      },
      "execution_count": null,
      "outputs": []
    },
    {
      "cell_type": "code",
      "source": [
        "config_tesseract = '--tessdata-dir tessdata --psm 6'\n",
        "texto = pytesseract.image_to_string(rgb, lang='por', config=config_tesseract)\n",
        "print(texto)"
      ],
      "metadata": {
        "id": "WvYVyS7XI8H0"
      },
      "execution_count": null,
      "outputs": []
    },
    {
      "cell_type": "code",
      "source": [
        "config_tesseract = '--tessdata-dir tessdata --psm 7'\n",
        "texto = pytesseract.image_to_string(rgb, lang='por', config=config_tesseract)\n",
        "print(texto)"
      ],
      "metadata": {
        "id": "WbdAng9LJSMl"
      },
      "execution_count": null,
      "outputs": []
    },
    {
      "cell_type": "code",
      "source": [
        "config_tesseract = '--tessdata-dir tessdata --psm 8'\n",
        "texto = pytesseract.image_to_string(rgb, lang='por', config=config_tesseract)\n",
        "print(texto)"
      ],
      "metadata": {
        "id": "4sgX4baLJbUK"
      },
      "execution_count": null,
      "outputs": []
    },
    {
      "cell_type": "code",
      "source": [
        "img = cv2.imread('/content/text-recognize/Imagens/Aula2-Saida.png')\n",
        "rgb = cv2.cvtColor(img, cv2.COLOR_BGR2RGB)\n",
        "cv2_imshow(rgb)"
      ],
      "metadata": {
        "id": "VEJ2uRvdJs-1"
      },
      "execution_count": null,
      "outputs": []
    },
    {
      "cell_type": "code",
      "source": [
        "config_tesseract = '--tessdata-dir tessdata --psm 7'\n",
        "texto = pytesseract.image_to_string(rgb, lang='por', config=config_tesseract)\n",
        "print(texto)"
      ],
      "metadata": {
        "id": "B2s-OQ4hJ4Uq"
      },
      "execution_count": null,
      "outputs": []
    }
  ]
}