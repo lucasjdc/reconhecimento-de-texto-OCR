{
  "nbformat": 4,
  "nbformat_minor": 0,
  "metadata": {
    "colab": {
      "provenance": [],
      "collapsed_sections": [
        "oV3dEN9amfc7",
        "wGBEeS0ummT_",
        "7QBdxkfjt18y"
      ]
    },
    "kernelspec": {
      "name": "python3",
      "display_name": "Python 3"
    },
    "language_info": {
      "name": "python"
    }
  },
  "cells": [
    {
      "cell_type": "markdown",
      "source": [
        "# Preparando o ambiente"
      ],
      "metadata": {
        "id": "oV3dEN9amfc7"
      }
    },
    {
      "cell_type": "code",
      "execution_count": null,
      "metadata": {
        "id": "g52NHGBLlNZB"
      },
      "outputs": [],
      "source": [
        "!pip install opencv-python==4.6.0.66\n",
        "!sudo apt install tesseract-ocr\n",
        "!pip install pytesseract==0.3.9"
      ]
    },
    {
      "cell_type": "code",
      "source": [
        "import pytesseract\n",
        "import numpy as np\n",
        "import cv2\n",
        "from google.colab.patches import cv2_imshow # para mostrar as imagens no Google Colab"
      ],
      "metadata": {
        "id": "BZ-G3Hs8ll-y"
      },
      "execution_count": null,
      "outputs": []
    },
    {
      "cell_type": "code",
      "source": [
        "! git clone https://github.com/sthemonica/text-recognize"
      ],
      "metadata": {
        "id": "nzQ73tBll7wc"
      },
      "execution_count": null,
      "outputs": []
    },
    {
      "cell_type": "markdown",
      "source": [
        "# Introdução ao Tesseract OCR"
      ],
      "metadata": {
        "id": "wGBEeS0ummT_"
      }
    },
    {
      "cell_type": "code",
      "source": [
        "img = cv2.imread('/content/text-recognize/Imagens/Aula1-teste.png')\n",
        "cv2_imshow(img)"
      ],
      "metadata": {
        "id": "IIiszvSgmaoj"
      },
      "execution_count": null,
      "outputs": []
    },
    {
      "cell_type": "code",
      "source": [
        "texto = pytesseract.image_to_string(img)\n",
        "print(texto)"
      ],
      "metadata": {
        "id": "_NxgcUmOtS27"
      },
      "execution_count": null,
      "outputs": []
    },
    {
      "cell_type": "markdown",
      "source": [
        "# Imagens BGR"
      ],
      "metadata": {
        "id": "7QBdxkfjt18y"
      }
    },
    {
      "cell_type": "code",
      "source": [
        "img = cv2.imread('/content/text-recognize/Imagens/Aula1-ocr.png')\n",
        "cv2_imshow(img)"
      ],
      "metadata": {
        "id": "p27iYX4Gt7vf"
      },
      "execution_count": null,
      "outputs": []
    },
    {
      "cell_type": "markdown",
      "source": [
        "O OpenCV tem seus canais de cores invertidos, então para utilizarmos com outras bibliotecas precisamos fazer a conversão de BGR para RGB."
      ],
      "metadata": {
        "id": "qo9Y6OA4utCJ"
      }
    },
    {
      "cell_type": "code",
      "source": [
        "rgb = cv2.cvtColor(img, cv2.COLOR_BGR2RGB)\n",
        "cv2_imshow(rgb)"
      ],
      "metadata": {
        "id": "vUs_2xZOuk7b"
      },
      "execution_count": null,
      "outputs": []
    },
    {
      "cell_type": "code",
      "source": [
        "texto = pytesseract.image_to_string(rgb)\n",
        "print(texto)"
      ],
      "metadata": {
        "id": "TpG2e8-4wsPl"
      },
      "execution_count": null,
      "outputs": []
    },
    {
      "cell_type": "code",
      "source": [
        "gray = cv2.cvtColor(img, cv2.COLOR_BGR2GRAY)\n",
        "cv2_imshow(gray)"
      ],
      "metadata": {
        "id": "PCDbcPBuwEyb"
      },
      "execution_count": null,
      "outputs": []
    },
    {
      "cell_type": "code",
      "source": [
        "texto = pytesseract.image_to_string(gray)\n",
        "print(texto)"
      ],
      "metadata": {
        "id": "H3K7ek5Yw0kC"
      },
      "execution_count": null,
      "outputs": []
    },
    {
      "cell_type": "markdown",
      "source": [
        "Aula 2"
      ],
      "metadata": {
        "id": "7dERbHHsxzfI"
      }
    },
    {
      "cell_type": "markdown",
      "source": [
        "Caracteres diferentes"
      ],
      "metadata": {
        "id": "RCxRFLO2yeT7"
      }
    },
    {
      "cell_type": "code",
      "source": [
        "img = cv2.imread('/content/text-recognize/Imagens/Aula2-undersampling.png')\n",
        "rgb = cv2.cvtColor(img, cv2.COLOR_BGR2RGB)\n",
        "cv2_imshow(rgb)"
      ],
      "metadata": {
        "id": "-nqDxwVLxyxI"
      },
      "execution_count": null,
      "outputs": []
    },
    {
      "cell_type": "code",
      "source": [
        "texto = pytesseract.image_to_string(rgb)\n",
        "print(texto)"
      ],
      "metadata": {
        "id": "CigWzvAKyTDA"
      },
      "execution_count": null,
      "outputs": []
    },
    {
      "cell_type": "markdown",
      "source": [
        "As palavras **estão**, **frequência**, **observações** não foram bem traduzidas."
      ],
      "metadata": {
        "id": "0vrUeDqsywGu"
      }
    },
    {
      "cell_type": "code",
      "source": [
        "!tesseract --list-langs"
      ],
      "metadata": {
        "id": "FfmtZAfBzG4_"
      },
      "execution_count": null,
      "outputs": []
    },
    {
      "cell_type": "markdown",
      "source": [
        "Adicionando novo idioma no tesseract"
      ],
      "metadata": {
        "id": "uByFws2ezqQ3"
      }
    },
    {
      "cell_type": "code",
      "source": [
        "!apt-get install tesseract-ocr-por"
      ],
      "metadata": {
        "id": "JPe2Rkwuzg1p"
      },
      "execution_count": null,
      "outputs": []
    },
    {
      "cell_type": "code",
      "source": [
        "texto = pytesseract.image_to_string(rgb, lang='por')\n",
        "print(texto)"
      ],
      "metadata": {
        "id": "5gCPWrJj0OsT"
      },
      "execution_count": null,
      "outputs": []
    },
    {
      "cell_type": "markdown",
      "source": [
        "Idiomas do projeto"
      ],
      "metadata": {
        "id": "0vTnV-azGs5l"
      }
    },
    {
      "cell_type": "code",
      "source": [
        "!mkdir tessdata"
      ],
      "metadata": {
        "id": "ro2ZBq7nGv0U"
      },
      "execution_count": null,
      "outputs": []
    },
    {
      "cell_type": "code",
      "source": [
        "!wget -O ./tessdata/por.traineddata https://github.com/tesseract-ocr/tessdata/blob/main/por.traineddata?raw=true\n",
        "!wget -O ./tessdata/eng.traineddata https://github.com/tesseract-ocr/tessdata/blob/main/eng.traineddata?raw=true"
      ],
      "metadata": {
        "id": "F1XX1pVqG_2Y"
      },
      "execution_count": null,
      "outputs": []
    },
    {
      "cell_type": "code",
      "source": [
        "config_tesseract = '--tessdata-dir tessdata'\n",
        "texto = pytesseract.image_to_string(rgb, lang='por', config=config_tesseract)\n",
        "print(texto)"
      ],
      "metadata": {
        "id": "sXxNGWfvHNNd"
      },
      "execution_count": null,
      "outputs": []
    },
    {
      "cell_type": "code",
      "source": [
        "!ls tessdata/"
      ],
      "metadata": {
        "id": "XLTE7dcxHm0V"
      },
      "execution_count": null,
      "outputs": []
    },
    {
      "cell_type": "markdown",
      "source": [
        "PSMs - Page Segmentation Modes"
      ],
      "metadata": {
        "id": "lNQC5UjX0-XF"
      }
    },
    {
      "cell_type": "code",
      "source": [
        "!tesseract --help-psm"
      ],
      "metadata": {
        "id": "O2Rlr7BT0xJh"
      },
      "execution_count": null,
      "outputs": []
    },
    {
      "cell_type": "code",
      "source": [
        "img = cv2.imread('/content/text-recognize/Imagens/Aula2-trecho-livro.png')\n",
        "rgb = cv2.cvtColor(img, cv2.COLOR_BGR2RGB)\n",
        "cv2_imshow(rgb)"
      ],
      "metadata": {
        "id": "c7fndpxs1eV7"
      },
      "execution_count": null,
      "outputs": []
    },
    {
      "cell_type": "code",
      "source": [
        "config_tesseract = '--tessdata-dir tessdata'\n",
        "texto = pytesseract.image_to_string(rgb, lang='por', config=config_tesseract)\n",
        "print(texto)"
      ],
      "metadata": {
        "id": "OEVNMBIeIjek"
      },
      "execution_count": null,
      "outputs": []
    },
    {
      "cell_type": "code",
      "source": [
        "config_tesseract = '--tessdata-dir tessdata --psm 6'\n",
        "texto = pytesseract.image_to_string(rgb, lang='por', config=config_tesseract)\n",
        "print(texto)"
      ],
      "metadata": {
        "id": "WvYVyS7XI8H0"
      },
      "execution_count": null,
      "outputs": []
    },
    {
      "cell_type": "code",
      "source": [
        "config_tesseract = '--tessdata-dir tessdata --psm 7'\n",
        "texto = pytesseract.image_to_string(rgb, lang='por', config=config_tesseract)\n",
        "print(texto)"
      ],
      "metadata": {
        "id": "WbdAng9LJSMl"
      },
      "execution_count": null,
      "outputs": []
    },
    {
      "cell_type": "code",
      "source": [
        "config_tesseract = '--tessdata-dir tessdata --psm 8'\n",
        "texto = pytesseract.image_to_string(rgb, lang='por', config=config_tesseract)\n",
        "print(texto)"
      ],
      "metadata": {
        "id": "4sgX4baLJbUK"
      },
      "execution_count": null,
      "outputs": []
    },
    {
      "cell_type": "code",
      "source": [
        "img = cv2.imread('/content/text-recognize/Imagens/Aula2-Saida.png')\n",
        "rgb = cv2.cvtColor(img, cv2.COLOR_BGR2RGB)\n",
        "cv2_imshow(rgb)"
      ],
      "metadata": {
        "id": "VEJ2uRvdJs-1"
      },
      "execution_count": null,
      "outputs": []
    },
    {
      "cell_type": "code",
      "source": [
        "config_tesseract = '--tessdata-dir tessdata --psm 7'\n",
        "texto = pytesseract.image_to_string(rgb, lang='por', config=config_tesseract)\n",
        "print(texto)"
      ],
      "metadata": {
        "id": "B2s-OQ4hJ4Uq"
      },
      "execution_count": null,
      "outputs": []
    },
    {
      "cell_type": "markdown",
      "source": [
        "# Biblioteca Pillow (PIL)\n",
        "\n",
        "PIL: Python Imaging Library"
      ],
      "metadata": {
        "id": "CzbmlRbZstcF"
      }
    },
    {
      "cell_type": "code",
      "source": [
        "from PIL import Image\n",
        "import matplotlib.pyplot as plt"
      ],
      "metadata": {
        "id": "vH-mahlps01a"
      },
      "execution_count": null,
      "outputs": []
    },
    {
      "cell_type": "code",
      "source": [
        "img = Image.open('/content/text-recognize/Imagens/Aula2-livro.png')\n",
        "plt.imshow(img)"
      ],
      "metadata": {
        "id": "nvQDODLCtS0K"
      },
      "execution_count": null,
      "outputs": []
    },
    {
      "cell_type": "markdown",
      "source": [
        "OSD significa Orientation and Script Detection e o seu retorno são os \"metadados\" da imagem."
      ],
      "metadata": {
        "id": "b6y3N-A9uipC"
      }
    },
    {
      "cell_type": "code",
      "source": [
        "print(pytesseract.image_to_osd(img))"
      ],
      "metadata": {
        "id": "R2NeuIupuAzL"
      },
      "execution_count": null,
      "outputs": []
    },
    {
      "cell_type": "markdown",
      "source": [
        "Aula 3"
      ],
      "metadata": {
        "id": "4r2vtF3OvMY1"
      }
    },
    {
      "cell_type": "code",
      "source": [
        "img = cv2.imread('/content/text-recognize/Imagens/Aula3-testando.png')\n",
        "rgb = cv2.cvtColor(img, cv2.COLOR_BGR2RGB)\n",
        "cv2_imshow(rgb)"
      ],
      "metadata": {
        "id": "21tS4SNxuKZx"
      },
      "execution_count": null,
      "outputs": []
    },
    {
      "cell_type": "code",
      "source": [
        "from pytesseract import Output"
      ],
      "metadata": {
        "id": "CmuziLvWvmsw"
      },
      "execution_count": null,
      "outputs": []
    },
    {
      "cell_type": "code",
      "source": [
        "config_tesseract = '--tessdata-dir tessdata'\n",
        "resultado = pytesseract.image_to_data(rgb, config=config_tesseract, lang='por',output_type=Output.DICT)\n",
        "resultado"
      ],
      "metadata": {
        "id": "3YrOKuMwv2oo"
      },
      "execution_count": null,
      "outputs": []
    },
    {
      "cell_type": "code",
      "source": [
        "min_conf = 40 #@param {type: 'slider', min: 0, max: 100}"
      ],
      "metadata": {
        "id": "Uhlg6nRD4a_H"
      },
      "execution_count": null,
      "outputs": []
    },
    {
      "cell_type": "markdown",
      "source": [
        "## caixa delimitadora"
      ],
      "metadata": {
        "id": "cJrhug7Z7TuQ"
      }
    },
    {
      "cell_type": "code",
      "source": [
        "def caixa_texto(resultado, img, cor = (225, 105, 65)):\n",
        "  x = resultado['left'][i]\n",
        "  y = resultado['top'][i]\n",
        "  w = resultado['width'][i]\n",
        "  h = resultado['height'][i]\n",
        "\n",
        "  cv2.rectangle(img, (x, y), (x+w, y+h), cor, 2)\n",
        "\n",
        "  return x, y, img"
      ],
      "metadata": {
        "id": "j7FNPEnl46lm"
      },
      "execution_count": null,
      "outputs": []
    },
    {
      "cell_type": "code",
      "source": [
        "#len(resultado['text'])"
      ],
      "metadata": {
        "id": "m29NPBix8iHX"
      },
      "execution_count": null,
      "outputs": []
    },
    {
      "cell_type": "code",
      "source": [
        "img_copia = rgb.copy()\n",
        "for i in range(len(resultado['text'])):\n",
        "  confianca = int(resultado['conf'][i])\n",
        "  if confianca > min_conf:\n",
        "    x, y, img = caixa_texto(resultado, img_copia)\n",
        "cv2_imshow(img_copia)"
      ],
      "metadata": {
        "id": "Fgp65WdP8ZcZ"
      },
      "execution_count": null,
      "outputs": []
    },
    {
      "cell_type": "markdown",
      "source": [
        "## Caixa e texto"
      ],
      "metadata": {
        "id": "_JAizMWY_1ad"
      }
    },
    {
      "cell_type": "code",
      "source": [
        "img_copia = rgb.copy()\n",
        "for i in range(len(resultado['text'])):\n",
        "  confianca = int(resultado['conf'][i])\n",
        "  if confianca > min_conf:\n",
        "    x, y, img = caixa_texto(resultado, img_copia)\n",
        "    texto = resultado['text'][i]\n",
        "    cv2.putText(img_copia, texto, (x, y-10), cv2.FONT_HERSHEY_SIMPLEX, 0.7, (30, 105, 210))\n",
        "\n",
        "cv2_imshow(img_copia)"
      ],
      "metadata": {
        "id": "9yT-UHz6_6Cg"
      },
      "execution_count": null,
      "outputs": []
    },
    {
      "cell_type": "markdown",
      "source": [
        "## Trabalhando com fontes externas"
      ],
      "metadata": {
        "id": "TymrktLwDN87"
      }
    },
    {
      "cell_type": "code",
      "source": [
        "img = cv2.imread('/content/text-recognize/Imagens/Aula1-ocr.png')\n",
        "rgb = cv2.cvtColor(img, cv2.COLOR_BGR2RGB)\n",
        "cv2_imshow(rgb)"
      ],
      "metadata": {
        "id": "E7LXZrwMDR_Q"
      },
      "execution_count": null,
      "outputs": []
    },
    {
      "cell_type": "code",
      "source": [
        "config_tesseract = '--tessdata-dir tessdata'\n",
        "resultado = pytesseract.image_to_data(rgb, config=config_tesseract, lang='por',output_type=Output.DICT)\n",
        "resultado"
      ],
      "metadata": {
        "id": "9FmWI-XvD1gn"
      },
      "execution_count": null,
      "outputs": []
    },
    {
      "cell_type": "code",
      "source": [
        "from PIL import ImageFont, ImageDraw, Image\n",
        "\n",
        "fonte = '/content/text-recognize/Imagens/calibri.ttf'"
      ],
      "metadata": {
        "id": "ngg8NwqQEWzn"
      },
      "execution_count": null,
      "outputs": []
    },
    {
      "cell_type": "code",
      "source": [
        "def escreve_texto(texto, x, y, img, fonte, tamanho_texto=32):\n",
        "  fonte = ImageFont.truetype(fonte, tamanho_texto)\n",
        "  img_pil = Image.fromarray(img)\n",
        "  draw = ImageDraw.Draw(img_pil)\n",
        "  draw.text((x, y - tamanho_texto), texto, font = fonte)\n",
        "  img = np.array(img_pil)\n",
        "  return img"
      ],
      "metadata": {
        "id": "i0Untqq3Eq3p"
      },
      "execution_count": null,
      "outputs": []
    },
    {
      "cell_type": "code",
      "source": [
        "img_copia = rgb.copy()\n",
        "for i in range(len(resultado['text'])):\n",
        "  confianca = int(resultado['conf'][i])\n",
        "  if confianca > min_conf:\n",
        "    x, y, img = caixa_texto(resultado, img_copia)\n",
        "    texto = resultado['text'][i]\n",
        "    #cv2.putText(img_copia, texto, (x, y-10), cv2.FONT_HERSHEY_SIMPLEX, 0.7, (30, 105, 210))\n",
        "    img_copia = escreve_texto(texto, x, y, img_copia, fonte)\n",
        "\n",
        "cv2_imshow(img_copia)"
      ],
      "metadata": {
        "id": "EqGut-kyHZFp"
      },
      "execution_count": null,
      "outputs": []
    }
  ]
}